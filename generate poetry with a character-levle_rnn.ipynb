{
 "cells": [
  {
   "cell_type": "code",
   "execution_count": 1,
   "metadata": {},
   "outputs": [],
   "source": [
    "from __future__ import unicode_literals, print_function, division\n",
    "from io import open\n",
    "import glob\n",
    "import os\n",
    "import unicodedata\n",
    "import string\n",
    "import jieba"
   ]
  },
  {
   "cell_type": "code",
   "execution_count": 2,
   "metadata": {},
   "outputs": [],
   "source": [
    "path = '/home/SENSETIME/xiedongming/Desktop/research/NLP/data/poetry'"
   ]
  },
  {
   "cell_type": "code",
   "execution_count": 3,
   "metadata": {},
   "outputs": [],
   "source": [
    "def load_data(path):\n",
    "    file = path\n",
    "    datasets = pd.read_csv(file, header=0)\n",
    "    cats = datasets.cat\n",
    "    labels = datasets.label\n",
    "    reviews = datasets.review\n",
    "    rows = np.random.randint(0, len(datasets), len(datasets))\n",
    "    return np.array(cats[rows]), np.array(reviews[rows]), np.array(labels[rows])"
   ]
  },
  {
   "cell_type": "code",
   "execution_count": 4,
   "metadata": {},
   "outputs": [],
   "source": [
    "f = open(path)\n",
    "a = f.read().split('\\n')"
   ]
  },
  {
   "cell_type": "code",
   "execution_count": 5,
   "metadata": {},
   "outputs": [
    {
     "name": "stderr",
     "output_type": "stream",
     "text": [
      "IOPub data rate exceeded.\n",
      "The notebook server will temporarily stop sending output\n",
      "to the client in order to avoid crashing it.\n",
      "To change this limit, set the config variable\n",
      "`--NotebookApp.iopub_data_rate_limit`.\n",
      "\n",
      "Current values:\n",
      "NotebookApp.iopub_data_rate_limit=1000000.0 (bytes/sec)\n",
      "NotebookApp.rate_limit_window=3.0 (secs)\n",
      "\n"
     ]
    }
   ],
   "source": [
    "print (a)"
   ]
  },
  {
   "cell_type": "code",
   "execution_count": 6,
   "metadata": {},
   "outputs": [
    {
     "data": {
      "text/plain": [
       "'首春:寒随穷律变，春逐鸟声开。初风飘带柳，晚雪间花梅。碧林青旧竹，绿沼翠新苔。芝田初雁去，绮树巧莺来。'"
      ]
     },
     "execution_count": 6,
     "metadata": {},
     "output_type": "execute_result"
    }
   ],
   "source": [
    "a[0]"
   ]
  },
  {
   "cell_type": "code",
   "execution_count": 7,
   "metadata": {},
   "outputs": [],
   "source": [
    "aa = a[0]"
   ]
  },
  {
   "cell_type": "raw",
   "metadata": {},
   "source": [
    "def cutreviews(texts):\n",
    "    sent_words = []\n",
    "    for i in range(len(texts)):\n",
    "        sent_word = list(jieba.lcut(texts[i]))\n",
    "        _sent_word = ''.join(str(x) for x in sent_word)\n",
    "        sent_words.append(_sent_word)\n",
    "    return sent_words  "
   ]
  },
  {
   "cell_type": "code",
   "execution_count": 8,
   "metadata": {},
   "outputs": [],
   "source": [
    "pun = [':', '，', '。', '!']\n",
    "def cutreviews(texts):\n",
    "    sent_words = []\n",
    "    for i in range(len(texts)):\n",
    "        sent_word = list(jieba.lcut(texts[i]))\n",
    "#         print (sent_word)\n",
    "        _sent_words = []\n",
    "        for x in sent_word:\n",
    "            if x not in pun:\n",
    "                _sent_words += x\n",
    "        \n",
    "        _sent_word = ''.join(str(x) for x in _sent_words)\n",
    "        sent_words.append(_sent_word)\n",
    "    return sent_words  "
   ]
  },
  {
   "cell_type": "code",
   "execution_count": 9,
   "metadata": {},
   "outputs": [
    {
     "name": "stderr",
     "output_type": "stream",
     "text": [
      "Building prefix dict from the default dictionary ...\n",
      "Loading model from cache /tmp/jieba.cache\n",
      "Loading model cost 0.427 seconds.\n",
      "Prefix dict has been built succesfully.\n"
     ]
    }
   ],
   "source": [
    "datasets = cutreviews(a)"
   ]
  },
  {
   "cell_type": "code",
   "execution_count": 10,
   "metadata": {},
   "outputs": [
    {
     "name": "stdout",
     "output_type": "stream",
     "text": [
      "<class 'list'>\n"
     ]
    }
   ],
   "source": [
    "print (type(datasets))"
   ]
  },
  {
   "cell_type": "code",
   "execution_count": 11,
   "metadata": {},
   "outputs": [
    {
     "data": {
      "text/plain": [
       "'首春寒随穷律变春逐鸟声开初风飘带柳晚雪间花梅碧林青旧竹绿沼翠新苔芝田初雁去绮树巧莺来'"
      ]
     },
     "execution_count": 11,
     "metadata": {},
     "output_type": "execute_result"
    }
   ],
   "source": [
    "datasets[0]"
   ]
  },
  {
   "cell_type": "markdown",
   "metadata": {},
   "source": [
    "## Create Model"
   ]
  },
  {
   "cell_type": "code",
   "execution_count": 12,
   "metadata": {},
   "outputs": [],
   "source": [
    "import torch\n",
    "import torch.nn as nn"
   ]
  },
  {
   "cell_type": "code",
   "execution_count": 13,
   "metadata": {},
   "outputs": [],
   "source": [
    "class RNN(nn.Module):\n",
    "    def __init__(self, input_size, hidden_size, output_size):\n",
    "        super(RNN, self).__init__()\n",
    "        self.hidden_size = hidden_size\n",
    "        \n",
    "        self.i2h = nn.Linear(input_size + hidden_size, hidden_size)\n",
    "        self.i2o = nn.Linear(input_size + hidden_size, output_size)\n",
    "        self.o2o = nn.Linear(hidden_size + output_size, output_size)\n",
    "        self.dropout = nn.Dropout(0.1)\n",
    "        self.softmax = nn.LogSoftmax(dim=1)\n",
    "        \n",
    "    def forward(self, input, hidden):\n",
    "        input_combined = torch.cat((input, hidden), 1)\n",
    "        hidden = self.i2h(input_combined)\n",
    "        output = self.i2o(input_combined)\n",
    "        output_combined = torch.cat((hidden, output),1)\n",
    "        output = self.o2o(output_combined)\n",
    "        output = self.dropout(output)\n",
    "#         output = self.softmax(output)\n",
    "        return output, hidden\n",
    "    \n",
    "    def initHidden(self):\n",
    "        return torch.zeros(1, self.hidden_size)"
   ]
  },
  {
   "cell_type": "raw",
   "metadata": {},
   "source": [
    "class PoetryModel(nn.Module):\n",
    "    def __init__(self, vocab, embedding_dim):\n",
    "        super(PoetryModel, self).__init__()\n",
    "        self.hidden_dim = hidden_dim\n",
    "        self.embeddings = nn.Embedding(len(vocab), embedding_dim)\n",
    "        self.lstm = nn.LSTM(embedding_dim, self.hidden_dim, num_layers=2)\n",
    "        self.linear = nn.Linear(self.hidden_dim, len(vocab))\n",
    "        \n",
    "    def forward(self, input, hidden):\n",
    "        seq_len, batch_size = input.size()\n",
    "        embeds = self.embeddings(input)\n",
    "        output, hidden = self.lstm(embeds, hidden)\n",
    "        output = self.linear(output.view(seq_len * batch_size, -1))\n",
    "        return output. hidden\n",
    "        \n",
    "    def initHidden(self):\n",
    "        return torch.zaros(1, self.hidden_dim)"
   ]
  },
  {
   "cell_type": "markdown",
   "metadata": {},
   "source": [
    "## Preparing for training"
   ]
  },
  {
   "cell_type": "code",
   "execution_count": 14,
   "metadata": {},
   "outputs": [],
   "source": [
    "import numpy as np"
   ]
  },
  {
   "cell_type": "code",
   "execution_count": 15,
   "metadata": {},
   "outputs": [],
   "source": [
    "def randomChoice(data):\n",
    "    if isinstance(data, list):\n",
    "        data = np.array(data)\n",
    "    rows = np.random.randint(0, len(data), len(data))\n",
    "    return data[rows]"
   ]
  },
  {
   "cell_type": "code",
   "execution_count": 16,
   "metadata": {},
   "outputs": [],
   "source": [
    "def randomchoiceone(data):\n",
    "    data = np.array(data)\n",
    "    return data[np.random.randint(0, len(data)-1)]"
   ]
  },
  {
   "cell_type": "code",
   "execution_count": 17,
   "metadata": {},
   "outputs": [],
   "source": [
    "ran_datasets = randomChoice(datasets)"
   ]
  },
  {
   "cell_type": "code",
   "execution_count": 18,
   "metadata": {},
   "outputs": [
    {
     "data": {
      "text/plain": [
       "'雪雪雪花片玉屑结阴风凝暮节高岭虚晶平原广洁初从云外飘还向空中噎千门万户皆静兽炭皮裘自热此时双舞洛阳人谁悟郢中歌断绝'"
      ]
     },
     "execution_count": 18,
     "metadata": {},
     "output_type": "execute_result"
    }
   ],
   "source": [
    "ran_datasets[1]"
   ]
  },
  {
   "cell_type": "code",
   "execution_count": 19,
   "metadata": {},
   "outputs": [],
   "source": [
    "ran_dataset = randomchoiceone(datasets)"
   ]
  },
  {
   "cell_type": "code",
   "execution_count": 20,
   "metadata": {},
   "outputs": [
    {
     "data": {
      "text/plain": [
       "'枫桥夜泊（一作夜泊枫江）月落乌啼霜满天江枫渔火对愁眠姑苏城外寒山寺夜半钟声到客船'"
      ]
     },
     "execution_count": 20,
     "metadata": {},
     "output_type": "execute_result"
    }
   ],
   "source": [
    "ran_dataset"
   ]
  },
  {
   "cell_type": "code",
   "execution_count": 21,
   "metadata": {},
   "outputs": [],
   "source": [
    "datatest = ran_datasets[:2]"
   ]
  },
  {
   "cell_type": "code",
   "execution_count": 22,
   "metadata": {},
   "outputs": [
    {
     "data": {
      "text/plain": [
       "'系乐府十二首下客谣下客无黄金岂思主人怜客言胜黄金主人然不然珠玉成彩翠绮罗如婵娟终恐见斯好有时去君前岂知保忠信长使令德全风声与时茂歌颂万千年'"
      ]
     },
     "execution_count": 22,
     "metadata": {},
     "output_type": "execute_result"
    }
   ],
   "source": [
    "datatest[0]"
   ]
  },
  {
   "cell_type": "markdown",
   "metadata": {},
   "source": [
    "## Make a vocabulary"
   ]
  },
  {
   "cell_type": "code",
   "execution_count": 23,
   "metadata": {},
   "outputs": [],
   "source": [
    "def vocabb(data: np.ndarray):\n",
    "    vocabdict = []\n",
    "    for i in range(len(data)):\n",
    "        row = data[i]\n",
    "        for word in data[i]:\n",
    "            if word not in vocabdict:\n",
    "                vocabdict.append(word)\n",
    "    num = range(0, len(vocabdict)-1)\n",
    "    \n",
    "    return dict(zip(vocabdict, num))"
   ]
  },
  {
   "cell_type": "code",
   "execution_count": 24,
   "metadata": {},
   "outputs": [],
   "source": [
    "vocabl = vocabb(ran_datasets)"
   ]
  },
  {
   "cell_type": "raw",
   "metadata": {},
   "source": [
    "vocabl.items()"
   ]
  },
  {
   "cell_type": "code",
   "execution_count": 25,
   "metadata": {},
   "outputs": [],
   "source": [
    "def vocabre(vocab: dict):\n",
    "    return dict((v,k) for k, v in vocab.items())"
   ]
  },
  {
   "cell_type": "code",
   "execution_count": 26,
   "metadata": {},
   "outputs": [
    {
     "name": "stdout",
     "output_type": "stream",
     "text": [
      "7104\n"
     ]
    }
   ],
   "source": [
    "print (len(vocabl))"
   ]
  },
  {
   "cell_type": "code",
   "execution_count": 27,
   "metadata": {},
   "outputs": [
    {
     "data": {
      "text/plain": [
       "561"
      ]
     },
     "execution_count": 27,
     "metadata": {},
     "output_type": "execute_result"
    }
   ],
   "source": [
    "vocabl[\"和\"]"
   ]
  },
  {
   "cell_type": "code",
   "execution_count": 28,
   "metadata": {},
   "outputs": [],
   "source": [
    "re_vocab = vocabre(vocabl)"
   ]
  },
  {
   "cell_type": "code",
   "execution_count": 29,
   "metadata": {},
   "outputs": [
    {
     "data": {
      "text/plain": [
       "'天'"
      ]
     },
     "execution_count": 29,
     "metadata": {},
     "output_type": "execute_result"
    }
   ],
   "source": [
    "re_vocab[283]"
   ]
  },
  {
   "cell_type": "markdown",
   "metadata": {},
   "source": [
    "## One-hot vector for category"
   ]
  },
  {
   "cell_type": "raw",
   "metadata": {},
   "source": [
    "for word in datatest[1]:\n",
    "    print (word)\n",
    "    print (vocabl[word])"
   ]
  },
  {
   "cell_type": "code",
   "execution_count": 30,
   "metadata": {},
   "outputs": [],
   "source": [
    "def chartoindex(char, vocab):\n",
    "    num = vocab[char]\n",
    "    return num"
   ]
  },
  {
   "cell_type": "code",
   "execution_count": 31,
   "metadata": {},
   "outputs": [],
   "source": [
    "def chartotensor(char, vocab):\n",
    "    tensor = torch.zeros(1, len(vocab))\n",
    "    tensor[0][chartoindex(char, vocab)] = 1\n",
    "    return tensor"
   ]
  },
  {
   "cell_type": "code",
   "execution_count": 32,
   "metadata": {},
   "outputs": [],
   "source": [
    "def inputtensor(line, vocab):\n",
    "    tensor = torch.zeros(len(line), 1, len(vocab))\n",
    "    for li in range(len(line)):\n",
    "        char = line[li]\n",
    "        tensor[li][0][vocab[char]] = 1\n",
    "        return tensor"
   ]
  },
  {
   "cell_type": "code",
   "execution_count": 33,
   "metadata": {},
   "outputs": [],
   "source": [
    "def targettensor(line, vocab):\n",
    "    char_indexes = [vocab[line[li]] for li in range(1, len(line))]\n",
    "    char_indexes.append(len(line))\n",
    "    return torch.LongTensor(char_indexes)"
   ]
  },
  {
   "cell_type": "code",
   "execution_count": 34,
   "metadata": {},
   "outputs": [],
   "source": [
    "def randomtraingingexample(data, vocab):\n",
    "    line = randomchoiceone(data)\n",
    "    input_line_tensor = inputtensor(line, vocab)\n",
    "    target_line_tensor = targettensor(line, vocab)\n",
    "    return input_line_tensor, target_line_tensor"
   ]
  },
  {
   "cell_type": "code",
   "execution_count": 35,
   "metadata": {},
   "outputs": [
    {
     "data": {
      "text/plain": [
       "(tensor([[[0., 0., 0.,  ..., 0., 0., 0.]],\n",
       " \n",
       "         [[0., 0., 0.,  ..., 0., 0., 0.]],\n",
       " \n",
       "         [[0., 0., 0.,  ..., 0., 0., 0.]],\n",
       " \n",
       "         ...,\n",
       " \n",
       "         [[0., 0., 0.,  ..., 0., 0., 0.]],\n",
       " \n",
       "         [[0., 0., 0.,  ..., 0., 0., 0.]],\n",
       " \n",
       "         [[0., 0., 0.,  ..., 0., 0., 0.]]]),\n",
       " tensor([ 205,  382, 2567,   78, 1859,  191,  865,  283, 2499, 2398,  459,  162,\n",
       "          252,  138, 1257,   63,  837,  205,  172,  244, 1509, 1256,  435, 1491,\n",
       "         4765,   83,  679, 2621,  320, 2171, 2580, 1521, 1920,  130,  390,   57,\n",
       "          179, 2938,  941,  474, 2472, 1740, 1049, 1509, 2348,  538, 1823,  181,\n",
       "          960,  587,  852, 2132,  114,  231,   82, 3135, 3354, 1138, 1876,   18,\n",
       "          615,   84,  388,  390,    6, 1025,  134,  283,  439,   28, 2949, 1363,\n",
       "          205,  754, 1233,  124,  380, 1926,  100,  692,  488,   83,  679,  216,\n",
       "          134,  471,   87]))"
      ]
     },
     "execution_count": 35,
     "metadata": {},
     "output_type": "execute_result"
    }
   ],
   "source": [
    "randomtraingingexample(datasets, vocabl)"
   ]
  },
  {
   "cell_type": "code",
   "execution_count": 36,
   "metadata": {},
   "outputs": [
    {
     "name": "stdout",
     "output_type": "stream",
     "text": [
      "torch.Size([57, 1, 7104])\n"
     ]
    }
   ],
   "source": [
    "print (inputtensor(datatest[1], vocabl).shape)"
   ]
  },
  {
   "cell_type": "markdown",
   "metadata": {},
   "source": [
    "## Train"
   ]
  },
  {
   "cell_type": "code",
   "execution_count": 37,
   "metadata": {},
   "outputs": [],
   "source": [
    "rnn = RNN(len(vocabl), 1000, len(vocabl)).cuda()\n",
    "# criterion = nn.NLLLoss()\n",
    "criterion = nn.CrossEntropyLoss()\n",
    "learning_rate = 0.001\n",
    "\n",
    "optimizer = torch.optim.Adam(rnn.parameters(), learning_rate)\n",
    "scheduler = torch.optim.lr_scheduler.StepLR(optimizer, step_size=1000, gamma=0.1)"
   ]
  },
  {
   "cell_type": "code",
   "execution_count": 38,
   "metadata": {},
   "outputs": [],
   "source": [
    "def train(input_line_tensor, target_line_tensor):\n",
    "    target_line_tensor.unsqueeze_(-1)\n",
    "    hidden = rnn.initHidden().cuda()\n",
    "    #rnn.zero_grad()\n",
    "    loss = 0\n",
    "    for i in range(input_line_tensor.size(0)):\n",
    "        output, hidden = rnn(input_line_tensor[i], hidden)\n",
    "        optimizer.zero_grad()\n",
    "        l = criterion(output, target_line_tensor[i])\n",
    "        loss += l\n",
    "        optimizer.step()\n",
    "    loss.backward()\n",
    "    \n",
    "    for p in rnn.parameters():\n",
    "        p.data.add_(-learning_rate, p.grad.data)\n",
    "        \n",
    "    return output, loss.item() / input_line_tensor.size(0)"
   ]
  },
  {
   "cell_type": "code",
   "execution_count": 39,
   "metadata": {},
   "outputs": [
    {
     "name": "stdout",
     "output_type": "stream",
     "text": [
      "(0 0%) 8.8686\n",
      "(200 2%) 8.8393\n",
      "(400 4%) 8.7468\n",
      "(600 6%) nan\n",
      "(800 8%) nan\n",
      "(1000 10%) nan\n",
      "(1200 12%) nan\n",
      "(1400 14%) nan\n",
      "(1600 16%) nan\n",
      "(1800 18%) nan\n",
      "(2000 20%) nan\n",
      "(2200 22%) nan\n",
      "(2400 24%) nan\n",
      "(2600 26%) nan\n",
      "(2800 28%) nan\n",
      "(3000 30%) nan\n",
      "(3200 32%) nan\n",
      "(3400 34%) nan\n",
      "(3600 36%) nan\n",
      "(3800 38%) nan\n",
      "(4000 40%) nan\n",
      "(4200 42%) nan\n",
      "(4400 44%) nan\n",
      "(4600 46%) nan\n",
      "(4800 48%) nan\n",
      "(5000 50%) nan\n",
      "(5200 52%) nan\n",
      "(5400 54%) nan\n",
      "(5600 56%) nan\n",
      "(5800 57%) nan\n",
      "(6000 60%) nan\n",
      "(6200 62%) nan\n",
      "(6400 64%) nan\n",
      "(6600 66%) nan\n",
      "(6800 68%) nan\n",
      "(7000 70%) nan\n",
      "(7200 72%) nan\n",
      "(7400 74%) nan\n",
      "(7600 76%) nan\n",
      "(7800 78%) nan\n",
      "(8000 80%) nan\n",
      "(8200 82%) nan\n",
      "(8400 84%) nan\n",
      "(8600 86%) nan\n",
      "(8800 88%) nan\n",
      "(9000 90%) nan\n",
      "(9200 92%) nan\n",
      "(9400 94%) nan\n",
      "(9600 96%) nan\n",
      "(9800 98%) nan\n",
      "(10000 100%) nan\n"
     ]
    }
   ],
   "source": [
    "n_iters = 10000\n",
    "print_every = 200\n",
    "plot_every = 500\n",
    "all_losses = []\n",
    "total_loss = 0\n",
    "\n",
    "for iter in range(0, n_iters+1):\n",
    "    input_line_tensor, target_line_tensor = randomtraingingexample(ran_datasets, vocabl)\n",
    "    input_line_tensor = input_line_tensor.cuda()\n",
    "    target_line_tensor = target_line_tensor.cuda()\n",
    "#     print (input_line_tensor)\n",
    "#     print (target_line_tensor)\n",
    "    output, loss = train(input_line_tensor, target_line_tensor)\n",
    "    total_loss += loss\n",
    "    \n",
    "    if iter % print_every == 0:\n",
    "        print('(%d %d%%) %.4f' % (iter, iter / n_iters * 100, loss))\n",
    "        \n",
    "    if iter % plot_every == 0:\n",
    "        all_losses.append(total_loss / plot_every)\n",
    "        total_loss = 0"
   ]
  },
  {
   "cell_type": "code",
   "execution_count": 40,
   "metadata": {},
   "outputs": [],
   "source": [
    "max_lenght = 7"
   ]
  },
  {
   "cell_type": "code",
   "execution_count": 41,
   "metadata": {},
   "outputs": [],
   "source": [
    "def sample(vocab, revocab, start_char='成' ):\n",
    "    with torch.no_grad():\n",
    "        input = inputtensor(start_char, vocab)\n",
    "        input = input.cuda()\n",
    "        hidden = rnn.initHidden().cuda()\n",
    "        output_p = start_char\n",
    "        \n",
    "        for i in range(max_lenght):\n",
    "            output, hidden = rnn(input[0], hidden)\n",
    "            topv, topi = output.topk(1)\n",
    "            topi = int(topi[0][0])\n",
    "#            print (topi)\n",
    "            if topi == len(vocab):\n",
    "                break\n",
    "            else:\n",
    "                char = revocab[topi]\n",
    "                output_p += char\n",
    "    return output_p "
   ]
  },
  {
   "cell_type": "code",
   "execution_count": 42,
   "metadata": {},
   "outputs": [],
   "source": [
    "def samples(vocab,revocab, start_chars='天上'):\n",
    "    for start_char in start_chars:\n",
    "        print (sample(vocab, revocab, start_char))"
   ]
  },
  {
   "cell_type": "code",
   "execution_count": 43,
   "metadata": {},
   "outputs": [
    {
     "ename": "KeyError",
     "evalue": "1065353216",
     "output_type": "error",
     "traceback": [
      "\u001b[0;31m---------------------------------------------------------------------------\u001b[0m",
      "\u001b[0;31mKeyError\u001b[0m                                  Traceback (most recent call last)",
      "\u001b[0;32m<ipython-input-43-0f32f70cda3b>\u001b[0m in \u001b[0;36m<module>\u001b[0;34m\u001b[0m\n\u001b[0;32m----> 1\u001b[0;31m \u001b[0msamples\u001b[0m\u001b[0;34m(\u001b[0m\u001b[0mvocabl\u001b[0m\u001b[0;34m,\u001b[0m\u001b[0mre_vocab\u001b[0m\u001b[0;34m,\u001b[0m \u001b[0mstart_chars\u001b[0m\u001b[0;34m=\u001b[0m\u001b[0;34m'天上人间'\u001b[0m\u001b[0;34m)\u001b[0m\u001b[0;34m\u001b[0m\u001b[0;34m\u001b[0m\u001b[0m\n\u001b[0m",
      "\u001b[0;32m<ipython-input-42-1e06b37c998e>\u001b[0m in \u001b[0;36msamples\u001b[0;34m(vocab, revocab, start_chars)\u001b[0m\n\u001b[1;32m      1\u001b[0m \u001b[0;32mdef\u001b[0m \u001b[0msamples\u001b[0m\u001b[0;34m(\u001b[0m\u001b[0mvocab\u001b[0m\u001b[0;34m,\u001b[0m\u001b[0mrevocab\u001b[0m\u001b[0;34m,\u001b[0m \u001b[0mstart_chars\u001b[0m\u001b[0;34m=\u001b[0m\u001b[0;34m'天上'\u001b[0m\u001b[0;34m)\u001b[0m\u001b[0;34m:\u001b[0m\u001b[0;34m\u001b[0m\u001b[0;34m\u001b[0m\u001b[0m\n\u001b[1;32m      2\u001b[0m     \u001b[0;32mfor\u001b[0m \u001b[0mstart_char\u001b[0m \u001b[0;32min\u001b[0m \u001b[0mstart_chars\u001b[0m\u001b[0;34m:\u001b[0m\u001b[0;34m\u001b[0m\u001b[0;34m\u001b[0m\u001b[0m\n\u001b[0;32m----> 3\u001b[0;31m         \u001b[0mprint\u001b[0m \u001b[0;34m(\u001b[0m\u001b[0msample\u001b[0m\u001b[0;34m(\u001b[0m\u001b[0mvocab\u001b[0m\u001b[0;34m,\u001b[0m \u001b[0mrevocab\u001b[0m\u001b[0;34m,\u001b[0m \u001b[0mstart_char\u001b[0m\u001b[0;34m)\u001b[0m\u001b[0;34m)\u001b[0m\u001b[0;34m\u001b[0m\u001b[0;34m\u001b[0m\u001b[0m\n\u001b[0m",
      "\u001b[0;32m<ipython-input-41-cfcbc03dc9d8>\u001b[0m in \u001b[0;36msample\u001b[0;34m(vocab, revocab, start_char)\u001b[0m\n\u001b[1;32m     14\u001b[0m                 \u001b[0;32mbreak\u001b[0m\u001b[0;34m\u001b[0m\u001b[0;34m\u001b[0m\u001b[0m\n\u001b[1;32m     15\u001b[0m             \u001b[0;32melse\u001b[0m\u001b[0;34m:\u001b[0m\u001b[0;34m\u001b[0m\u001b[0;34m\u001b[0m\u001b[0m\n\u001b[0;32m---> 16\u001b[0;31m                 \u001b[0mchar\u001b[0m \u001b[0;34m=\u001b[0m \u001b[0mrevocab\u001b[0m\u001b[0;34m[\u001b[0m\u001b[0mtopi\u001b[0m\u001b[0;34m]\u001b[0m\u001b[0;34m\u001b[0m\u001b[0;34m\u001b[0m\u001b[0m\n\u001b[0m\u001b[1;32m     17\u001b[0m                 \u001b[0moutput_p\u001b[0m \u001b[0;34m+=\u001b[0m \u001b[0mchar\u001b[0m\u001b[0;34m\u001b[0m\u001b[0;34m\u001b[0m\u001b[0m\n\u001b[1;32m     18\u001b[0m     \u001b[0;32mreturn\u001b[0m \u001b[0moutput_p\u001b[0m\u001b[0;34m\u001b[0m\u001b[0;34m\u001b[0m\u001b[0m\n",
      "\u001b[0;31mKeyError\u001b[0m: 1065353216"
     ]
    }
   ],
   "source": [
    "samples(vocabl,re_vocab, start_chars='天上人间')"
   ]
  },
  {
   "cell_type": "code",
   "execution_count": null,
   "metadata": {},
   "outputs": [],
   "source": []
  },
  {
   "cell_type": "code",
   "execution_count": null,
   "metadata": {},
   "outputs": [],
   "source": []
  }
 ],
 "metadata": {
  "kernelspec": {
   "display_name": "pytorchpy3",
   "language": "python",
   "name": "pytorchpy3"
  },
  "language_info": {
   "codemirror_mode": {
    "name": "ipython",
    "version": 3
   },
   "file_extension": ".py",
   "mimetype": "text/x-python",
   "name": "python",
   "nbconvert_exporter": "python",
   "pygments_lexer": "ipython3",
   "version": "3.6.8"
  }
 },
 "nbformat": 4,
 "nbformat_minor": 2
}
