{
 "cells": [
  {
   "cell_type": "code",
   "execution_count": 1,
   "metadata": {},
   "outputs": [],
   "source": [
    "from __future__ import unicode_literals, print_function, division\n",
    "from io import open\n",
    "import glob\n",
    "import os\n",
    "import unicodedata\n",
    "import string\n",
    "import jieba"
   ]
  },
  {
   "cell_type": "code",
   "execution_count": 2,
   "metadata": {},
   "outputs": [],
   "source": [
    "path = 'data/poetry'"
   ]
  },
  {
   "cell_type": "code",
   "execution_count": 3,
   "metadata": {},
   "outputs": [],
   "source": [
    "def load_data(path):\n",
    "    file = path\n",
    "    datasets = pd.read_csv(file, header=0)\n",
    "    cats = datasets.cat\n",
    "    labels = datasets.label\n",
    "    reviews = datasets.review\n",
    "    rows = np.random.randint(0, len(datasets), len(datasets))\n",
    "    return np.array(cats[rows]), np.array(reviews[rows]), np.array(labels[rows])"
   ]
  },
  {
   "cell_type": "code",
   "execution_count": 4,
   "metadata": {},
   "outputs": [],
   "source": [
    "f = open(path)\n",
    "a = f.read().split('\\n')"
   ]
  },
  {
   "cell_type": "code",
   "execution_count": 5,
   "metadata": {},
   "outputs": [
    {
     "name": "stderr",
     "output_type": "stream",
     "text": [
      "IOPub data rate exceeded.\n",
      "The notebook server will temporarily stop sending output\n",
      "to the client in order to avoid crashing it.\n",
      "To change this limit, set the config variable\n",
      "`--NotebookApp.iopub_data_rate_limit`.\n",
      "\n",
      "Current values:\n",
      "NotebookApp.iopub_data_rate_limit=1000000.0 (bytes/sec)\n",
      "NotebookApp.rate_limit_window=3.0 (secs)\n",
      "\n"
     ]
    }
   ],
   "source": [
    "print (a)"
   ]
  },
  {
   "cell_type": "code",
   "execution_count": 6,
   "metadata": {},
   "outputs": [
    {
     "data": {
      "text/plain": [
       "'首春:寒随穷律变，春逐鸟声开。初风飘带柳，晚雪间花梅。碧林青旧竹，绿沼翠新苔。芝田初雁去，绮树巧莺来。'"
      ]
     },
     "execution_count": 6,
     "metadata": {},
     "output_type": "execute_result"
    }
   ],
   "source": [
    "a[0]"
   ]
  },
  {
   "cell_type": "code",
   "execution_count": 7,
   "metadata": {},
   "outputs": [],
   "source": [
    "aa = a[0]"
   ]
  },
  {
   "cell_type": "raw",
   "metadata": {},
   "source": [
    "def cutreviews(texts):\n",
    "    sent_words = []\n",
    "    for i in range(len(texts)):\n",
    "        sent_word = list(jieba.lcut(texts[i]))\n",
    "        _sent_word = ''.join(str(x) for x in sent_word)\n",
    "        sent_words.append(_sent_word)\n",
    "    return sent_words  "
   ]
  },
  {
   "cell_type": "code",
   "execution_count": 8,
   "metadata": {},
   "outputs": [],
   "source": [
    "pun = [':', '，', '。', '!']\n",
    "def cutreviews(texts):\n",
    "    sent_words = []\n",
    "    for i in range(len(texts)):\n",
    "        sent_word = list(jieba.lcut(texts[i]))\n",
    "#         print (sent_word)\n",
    "        _sent_words = []\n",
    "        for x in sent_word:\n",
    "            if x not in pun:\n",
    "                _sent_words += x\n",
    "        \n",
    "        _sent_word = ''.join(str(x) for x in _sent_words)\n",
    "        sent_words.append(_sent_word)\n",
    "    return sent_words  "
   ]
  },
  {
   "cell_type": "code",
   "execution_count": 9,
   "metadata": {},
   "outputs": [
    {
     "name": "stderr",
     "output_type": "stream",
     "text": [
      "Building prefix dict from the default dictionary ...\n",
      "Loading model from cache /tmp/jieba.cache\n",
      "Loading model cost 0.508 seconds.\n",
      "Prefix dict has been built succesfully.\n"
     ]
    }
   ],
   "source": [
    "datasets = cutreviews(a)"
   ]
  },
  {
   "cell_type": "code",
   "execution_count": 10,
   "metadata": {},
   "outputs": [
    {
     "name": "stdout",
     "output_type": "stream",
     "text": [
      "<class 'list'>\n"
     ]
    }
   ],
   "source": [
    "print (type(datasets))"
   ]
  },
  {
   "cell_type": "code",
   "execution_count": 11,
   "metadata": {},
   "outputs": [
    {
     "data": {
      "text/plain": [
       "'首春寒随穷律变春逐鸟声开初风飘带柳晚雪间花梅碧林青旧竹绿沼翠新苔芝田初雁去绮树巧莺来'"
      ]
     },
     "execution_count": 11,
     "metadata": {},
     "output_type": "execute_result"
    }
   ],
   "source": [
    "datasets[0]"
   ]
  },
  {
   "cell_type": "markdown",
   "metadata": {},
   "source": [
    "## Create Model"
   ]
  },
  {
   "cell_type": "code",
   "execution_count": 12,
   "metadata": {},
   "outputs": [],
   "source": [
    "import torch\n",
    "import torch.nn as nn"
   ]
  },
  {
   "cell_type": "raw",
   "metadata": {},
   "source": [
    "class RNN(nn.Module):\n",
    "    def __init__(self, input_size, hidden_size, output_size):\n",
    "        super(RNN, self).__init__()\n",
    "        self.hidden_size = hidden_size\n",
    "        \n",
    "        self.i2h = nn.Linear(input_size + hidden_size, hidden_size)\n",
    "        self.i2o = nn.Linear(input_size + hidden_size, output_size)\n",
    "        self.o2o = nn.Linear(hidden_size + output_size, output_size)\n",
    "        self.dropout = nn.Dropout(0.1)\n",
    "        self.softmax = nn.LogSoftmax(dim=1)\n",
    "        \n",
    "    def forward(self, input, hidden):\n",
    "        input_combined = torch.cat((input, hidden), 1)\n",
    "        hidden = self.i2h(input_combined)\n",
    "        output = self.i2o(input_combined)\n",
    "        output_combined = torch.cat((hidden, output),1)\n",
    "        output = self.o2o(output_combined)\n",
    "        output = self.dropout(output)\n",
    "#         output = self.softmax(output)\n",
    "        return output, hidden\n",
    "    \n",
    "    def initHidden(self):\n",
    "        return torch.zeros(1, self.hidden_size)"
   ]
  },
  {
   "cell_type": "code",
   "execution_count": 13,
   "metadata": {},
   "outputs": [],
   "source": [
    "class PoetryModel(nn.Module):\n",
    "    def __init__(self, vocab, embedding_dim, hidden_dim):\n",
    "        super(PoetryModel, self).__init__()\n",
    "        self.hidden_dim = hidden_dim\n",
    "        n_vocab = len(vocab)\n",
    "        self.embeddings = nn.Embedding(n_vocab, embedding_dim)\n",
    "        self.lstm = nn.LSTM(embedding_dim, self.hidden_dim, num_layers=2)\n",
    "        self.linear = nn.Linear(self.hidden_dim, len(vocab))\n",
    "    \n",
    "    def forward(self, input, hidden=None):\n",
    "        batch_size, seq_len = input.size()\n",
    "#        print (seq_len)\n",
    "        if hidden is None:\n",
    "#            h_0 = torch.zeros(2, batch_size, self.hidden_dim)\n",
    "#            c_0 = torch.zeros(2, batch_size, self.hidden_dim)\n",
    "            h_0 = input.data.new(2, 1, self.hidden_dim).fill_(0).float()\n",
    "            #print (h_0)\n",
    "            c_0 = input.data.new(2, 1, self.hidden_dim).fill_(0).float()\n",
    "            #print (c_0)\n",
    "        else:\n",
    "            h_0, c_0 = hidden\n",
    "        # size: (seq_len,batch_size,embeding_dim)\n",
    "        embeds = self.embeddings(input)\n",
    "        # output size: (seq_len,batch_size,hidden_dim)\n",
    "        output, hidden = self.lstm(embeds, (h_0, c_0))\n",
    "        output = self.linear(output.view(seq_len * batch_size, -1))\n",
    "        return output, hidden"
   ]
  },
  {
   "cell_type": "markdown",
   "metadata": {},
   "source": [
    "## Preparing for training"
   ]
  },
  {
   "cell_type": "code",
   "execution_count": 14,
   "metadata": {},
   "outputs": [],
   "source": [
    "import numpy as np"
   ]
  },
  {
   "cell_type": "code",
   "execution_count": 15,
   "metadata": {},
   "outputs": [],
   "source": [
    "def randomChoice(data):\n",
    "    if isinstance(data, list):\n",
    "        data = np.array(data)\n",
    "    rows = np.random.randint(0, len(data), len(data))\n",
    "    return data[rows]"
   ]
  },
  {
   "cell_type": "code",
   "execution_count": 16,
   "metadata": {},
   "outputs": [],
   "source": [
    "def randomchoiceone(data):\n",
    "    data = np.array(data)\n",
    "    return data[np.random.randint(0, len(data)-1)]"
   ]
  },
  {
   "cell_type": "code",
   "execution_count": 17,
   "metadata": {},
   "outputs": [],
   "source": [
    "ran_datasets = randomChoice(datasets)"
   ]
  },
  {
   "cell_type": "code",
   "execution_count": 18,
   "metadata": {},
   "outputs": [
    {
     "data": {
      "text/plain": [
       "'永淳中童谣新禾不入箱新麦不入场迨及八九月狗吠空垣墙'"
      ]
     },
     "execution_count": 18,
     "metadata": {},
     "output_type": "execute_result"
    }
   ],
   "source": [
    "ran_datasets[1]"
   ]
  },
  {
   "cell_type": "code",
   "execution_count": 19,
   "metadata": {},
   "outputs": [],
   "source": [
    "ran_dataset = randomchoiceone(datasets)"
   ]
  },
  {
   "cell_type": "code",
   "execution_count": 20,
   "metadata": {},
   "outputs": [
    {
     "data": {
      "text/plain": [
       "'咏史诗夷门六龙冉冉骤朝昏魏国贤才杳不存唯有侯嬴在时月夜来空自照夷门'"
      ]
     },
     "execution_count": 20,
     "metadata": {},
     "output_type": "execute_result"
    }
   ],
   "source": [
    "ran_dataset"
   ]
  },
  {
   "cell_type": "code",
   "execution_count": 21,
   "metadata": {},
   "outputs": [],
   "source": [
    "datatest = ran_datasets[:2]"
   ]
  },
  {
   "cell_type": "code",
   "execution_count": 22,
   "metadata": {},
   "outputs": [
    {
     "data": {
      "text/plain": [
       "'九日九日重阳节开门有菊花不知来送酒若个是陶家'"
      ]
     },
     "execution_count": 22,
     "metadata": {},
     "output_type": "execute_result"
    }
   ],
   "source": [
    "datatest[0]"
   ]
  },
  {
   "cell_type": "markdown",
   "metadata": {},
   "source": [
    "## Make a vocabulary"
   ]
  },
  {
   "cell_type": "code",
   "execution_count": 23,
   "metadata": {},
   "outputs": [],
   "source": [
    "def vocabb(data: np.ndarray):\n",
    "    vocabdict = []\n",
    "    for i in range(len(data)):\n",
    "        row = data[i]\n",
    "        for word in data[i]:\n",
    "            if word not in vocabdict:\n",
    "                vocabdict.append(word)\n",
    "    num = range(0, len(vocabdict)-1)\n",
    "    \n",
    "    return dict(zip(vocabdict, num))"
   ]
  },
  {
   "cell_type": "code",
   "execution_count": 24,
   "metadata": {},
   "outputs": [],
   "source": [
    "vocabl = vocabb(ran_datasets)"
   ]
  },
  {
   "cell_type": "raw",
   "metadata": {},
   "source": [
    "vocabl.items()"
   ]
  },
  {
   "cell_type": "code",
   "execution_count": 25,
   "metadata": {},
   "outputs": [],
   "source": [
    "def vocabre(vocab: dict):\n",
    "    return dict((v,k) for k, v in vocab.items())"
   ]
  },
  {
   "cell_type": "markdown",
   "metadata": {},
   "source": [
    "## One-hot vector for category"
   ]
  },
  {
   "cell_type": "raw",
   "metadata": {},
   "source": [
    "for word in datatest[1]:\n",
    "    print (word)\n",
    "    print (vocabl[word])"
   ]
  },
  {
   "cell_type": "code",
   "execution_count": 26,
   "metadata": {},
   "outputs": [],
   "source": [
    "def chartoindex(char, vocab):\n",
    "    num = vocab[char]\n",
    "    return num"
   ]
  },
  {
   "cell_type": "code",
   "execution_count": 27,
   "metadata": {},
   "outputs": [],
   "source": [
    "def chartotensor(char, vocab):\n",
    "    tensor = torch.zeros(1, len(vocab))\n",
    "    tensor[0][chartoindex(char, vocab)] = 1\n",
    "    return tensor"
   ]
  },
  {
   "cell_type": "code",
   "execution_count": 28,
   "metadata": {},
   "outputs": [],
   "source": [
    "def inputtensor(line, vocab):\n",
    "    tensor = torch.zeros(len(line), 1, len(vocab))\n",
    "    chars = []\n",
    "    for li in range(len(line)):\n",
    "        char = line[li]\n",
    "        tensor[li][0][vocab[char]] = 1\n",
    "        chars.append(char)\n",
    "    return tensor, chars"
   ]
  },
  {
   "cell_type": "code",
   "execution_count": 29,
   "metadata": {},
   "outputs": [],
   "source": [
    "def targettensor(line, vocab):\n",
    "    char_indexes = [vocab[line[li]] for li in range(1, len(line))]\n",
    "    char_indexes.append(len(line))\n",
    "    return torch.LongTensor(char_indexes)"
   ]
  },
  {
   "cell_type": "code",
   "execution_count": 30,
   "metadata": {},
   "outputs": [],
   "source": [
    "def randomtraingingexample(data, vocab):\n",
    "    line = randomchoiceone(data)\n",
    "    input_line_tensor, chars = inputtensor(line, vocab)\n",
    "    target_line_tensor = targettensor(line, vocab)\n",
    "    return input_line_tensor, chars, target_line_tensor"
   ]
  },
  {
   "cell_type": "raw",
   "metadata": {},
   "source": [
    "randomtraingingexample(datasets, vocabl)"
   ]
  },
  {
   "cell_type": "markdown",
   "metadata": {},
   "source": [
    "## Train"
   ]
  },
  {
   "cell_type": "code",
   "execution_count": 31,
   "metadata": {},
   "outputs": [],
   "source": [
    "#rnn = RNN(len(vocabl), 1000, len(vocabl)).cuda()\n",
    "rnn = PoetryModel(vocabl, 256, 500).cuda()\n",
    "# criterion = nn.NLLLoss()\n",
    "criterion = nn.CrossEntropyLoss()\n",
    "learning_rate = 0.001\n",
    "\n",
    "optimizer = torch.optim.Adam(rnn.parameters(), learning_rate)\n",
    "scheduler = torch.optim.lr_scheduler.StepLR(optimizer, step_size=1000, gamma=0.1)"
   ]
  },
  {
   "cell_type": "code",
   "execution_count": 32,
   "metadata": {},
   "outputs": [],
   "source": [
    "def train_test(input_line_tensor, target_line_tensor):\n",
    "    target_line_tensor.unsqueeze_(-1)\n",
    "    print (target_line_tensor)"
   ]
  },
  {
   "cell_type": "code",
   "execution_count": 33,
   "metadata": {},
   "outputs": [],
   "source": [
    "input_line_tensor,chars, target_line_tensor = randomtraingingexample(ran_datasets, vocabl)"
   ]
  },
  {
   "cell_type": "code",
   "execution_count": 34,
   "metadata": {},
   "outputs": [
    {
     "name": "stdout",
     "output_type": "stream",
     "text": [
      "['奉', '酬', '袭', '美', '苦', '雨', '四', '声', '重', '寄', '三', '十', '二', '句', '平', '去', '声', '乌', '蟾', '俱', '沈', '光', '昼', '夜', '恨', '暗', '度', '何', '当', '乘', '云', '螭', '面', '见', '上', '帝', '诉', '臣', '言', '阴', '云', '欺', '诏', '用', '利', '剑', '付', '回', '车', '诛', '群', '奸', '自', '散', '万', '籁', '怒']\n"
     ]
    }
   ],
   "source": [
    "print (chars)"
   ]
  },
  {
   "cell_type": "code",
   "execution_count": 35,
   "metadata": {},
   "outputs": [
    {
     "data": {
      "text/plain": [
       "tensor([[ 384],\n",
       "        [ 514],\n",
       "        [1982],\n",
       "        [1089],\n",
       "        [ 647],\n",
       "        [  89],\n",
       "        [ 198],\n",
       "        [ 945],\n",
       "        [   2],\n",
       "        [ 141],\n",
       "        [ 617],\n",
       "        [  44],\n",
       "        [ 383],\n",
       "        [ 417],\n",
       "        [ 266],\n",
       "        [ 748],\n",
       "        [ 945],\n",
       "        [1057],\n",
       "        [2224],\n",
       "        [ 533],\n",
       "        [ 667],\n",
       "        [ 407],\n",
       "        [ 784],\n",
       "        [ 547],\n",
       "        [ 123],\n",
       "        [ 653],\n",
       "        [ 971],\n",
       "        [ 146],\n",
       "        [ 425],\n",
       "        [ 913],\n",
       "        [ 160],\n",
       "        [4127],\n",
       "        [1282],\n",
       "        [ 520],\n",
       "        [ 261],\n",
       "        [ 242],\n",
       "        [3923],\n",
       "        [1059],\n",
       "        [1247],\n",
       "        [  61],\n",
       "        [ 160],\n",
       "        [2494],\n",
       "        [1851],\n",
       "        [ 513],\n",
       "        [2443],\n",
       "        [1629],\n",
       "        [3228],\n",
       "        [ 402],\n",
       "        [1403],\n",
       "        [2967],\n",
       "        [ 341],\n",
       "        [2107],\n",
       "        [  93],\n",
       "        [ 452],\n",
       "        [  79],\n",
       "        [ 940],\n",
       "        [2996]])"
      ]
     },
     "execution_count": 35,
     "metadata": {},
     "output_type": "execute_result"
    }
   ],
   "source": [
    "chartoind = [[chartoindex(char, vocabl)] for char in chars]\n",
    "torch.tensor(chartoind, dtype=torch.long)"
   ]
  },
  {
   "cell_type": "code",
   "execution_count": 36,
   "metadata": {},
   "outputs": [],
   "source": [
    "def train(chars, target_line_tensor):\n",
    "    chartoind = [[chartoindex(char, vocabl)] for char in chars]\n",
    "    input_tensor = torch.tensor(chartoind, dtype=torch.long)\n",
    "    input_tensor = input_tensor.cuda()\n",
    "    output, hidden = rnn(input_tensor)\n",
    "    loss = 0\n",
    "    optimizer.zero_grad()\n",
    "    l = criterion(output, target_line_tensor)\n",
    "    loss += l\n",
    "    optimizer.step()\n",
    "    loss.backward()\n",
    "    \n",
    "    for p in rnn.parameters():\n",
    "        p.data.add_(-learning_rate, p.grad.data)\n",
    "        \n",
    "    return output, loss.item() / input_line_tensor.size(0)"
   ]
  },
  {
   "cell_type": "code",
   "execution_count": null,
   "metadata": {},
   "outputs": [
    {
     "name": "stdout",
     "output_type": "stream",
     "text": [
      "(0 0%) 0.1346\n"
     ]
    }
   ],
   "source": [
    "n_iters = 10000\n",
    "print_every = 200\n",
    "plot_every = 500\n",
    "all_losses = []\n",
    "total_loss = 0\n",
    "\n",
    "for iter in range(0, n_iters+1):\n",
    "    input_line_tensor,chars, target_line_tensor = randomtraingingexample(ran_datasets, vocabl)\n",
    "#    input_line_tensor = input_line_tensor.cuda()\n",
    "    target_line_tensor = target_line_tensor.cuda()\n",
    "#     print (input_line_tensor)\n",
    "#     print (target_line_tensor)\n",
    "    \n",
    "    output, loss = train(chars, target_line_tensor)\n",
    "    total_loss += loss\n",
    "    \n",
    "    if iter % print_every == 0:\n",
    "        print('(%d %d%%) %.4f' % (iter, iter / n_iters * 100, loss))\n",
    "        \n",
    "    if iter % plot_every == 0:\n",
    "        all_losses.append(total_loss / plot_every)\n",
    "        total_loss = 0"
   ]
  },
  {
   "cell_type": "code",
   "execution_count": null,
   "metadata": {},
   "outputs": [],
   "source": []
  },
  {
   "cell_type": "raw",
   "metadata": {},
   "source": [
    "#input_line_tensor, target_line_tensor = randomtraingingexample(ran_datasets, vocabl)\n",
    "embeds = nn.Embedding(len(vocabl), 256)\n",
    "output = embeds(input_tensor)"
   ]
  },
  {
   "cell_type": "raw",
   "metadata": {},
   "source": [
    "output"
   ]
  },
  {
   "cell_type": "raw",
   "metadata": {},
   "source": [
    "def train(input_line_tensor, target_line_tensor):\n",
    "    target_line_tensor.unsqueeze_(-1)\n",
    "#    hidden = rnn.initHidden()\n",
    "#    hidden = hidden.cuda()\n",
    "    #rnn.zero_grad()\n",
    "    loss = 0\n",
    "    for i in range(input_line_tensor.size(0)):\n",
    "        output, hidden = rnn(input_line_tensor[i])\n",
    "        optimizer.zero_grad()\n",
    "        l = criterion(output, target_line_tensor[i])\n",
    "        loss += l\n",
    "        optimizer.step()\n",
    "    loss.backward()\n",
    "    \n",
    "    for p in rnn.parameters():\n",
    "        p.data.add_(-learning_rate, p.grad.data)\n",
    "        \n",
    "    return output, loss.item() / input_line_tensor.size(0)"
   ]
  },
  {
   "cell_type": "code",
   "execution_count": null,
   "metadata": {},
   "outputs": [],
   "source": [
    "max_lenght = 7"
   ]
  },
  {
   "cell_type": "code",
   "execution_count": null,
   "metadata": {},
   "outputs": [],
   "source": [
    "def sample(vocab, revocab, start_char='成' ):\n",
    "    with torch.no_grad():\n",
    "#        input = inputtensor(start_char, vocab)\n",
    "        chartoind = [[chartoindex(char, vocabl)] for char in start_char]\n",
    "        input_tensor = torch.tensor(chartoind, dtype=torch.long)\n",
    "#        input = input.cuda()\n",
    "        output_p = start_char\n",
    "        \n",
    "        for i in range(max_lenght):\n",
    "            output, hidden = rnn(input_tensor)\n",
    "            topv, topi = output.topk(1)\n",
    "            topi = int(topi[0][0])\n",
    "#            print (topi)\n",
    "            if topi == len(vocab):\n",
    "                break\n",
    "            else:\n",
    "                char = revocab[topi]\n",
    "                output_p += char\n",
    "    return output_p "
   ]
  },
  {
   "cell_type": "code",
   "execution_count": null,
   "metadata": {},
   "outputs": [],
   "source": [
    "def samples(vocab,revocab, start_chars='天上'):\n",
    "    for start_char in start_chars:\n",
    "        print (sample(vocab, revocab, start_char))"
   ]
  },
  {
   "cell_type": "code",
   "execution_count": null,
   "metadata": {},
   "outputs": [],
   "source": [
    "samples(vocabl,re_vocab, start_chars='天上人间')"
   ]
  },
  {
   "cell_type": "code",
   "execution_count": null,
   "metadata": {},
   "outputs": [],
   "source": []
  },
  {
   "cell_type": "code",
   "execution_count": null,
   "metadata": {},
   "outputs": [],
   "source": []
  }
 ],
 "metadata": {
  "kernelspec": {
   "display_name": "pytorchpy3",
   "language": "python",
   "name": "pytorchpy3"
  },
  "language_info": {
   "codemirror_mode": {
    "name": "ipython",
    "version": 3
   },
   "file_extension": ".py",
   "mimetype": "text/x-python",
   "name": "python",
   "nbconvert_exporter": "python",
   "pygments_lexer": "ipython3",
   "version": "3.6.8"
  }
 },
 "nbformat": 4,
 "nbformat_minor": 2
}
